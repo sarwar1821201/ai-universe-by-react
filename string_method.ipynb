{
  "nbformat": 4,
  "nbformat_minor": 0,
  "metadata": {
    "colab": {
      "provenance": [],
      "authorship_tag": "ABX9TyMNhZEjDguBufXMhIGeS+pQ",
      "include_colab_link": true
    },
    "kernelspec": {
      "name": "python3",
      "display_name": "Python 3"
    },
    "language_info": {
      "name": "python"
    }
  },
  "cells": [
    {
      "cell_type": "markdown",
      "metadata": {
        "id": "view-in-github",
        "colab_type": "text"
      },
      "source": [
        "<a href=\"https://colab.research.google.com/github/sarwar1821201/ai-universe-by-react/blob/main/string_method.ipynb\" target=\"_parent\"><img src=\"https://colab.research.google.com/assets/colab-badge.svg\" alt=\"Open In Colab\"/></a>"
      ]
    },
    {
      "cell_type": "code",
      "execution_count": 28,
      "metadata": {
        "colab": {
          "base_uri": "https://localhost:8080/"
        },
        "id": "lmlY-_fBZg35",
        "outputId": "fc44d8da-6d5d-4de1-c53a-b79ddcea3c49"
      },
      "outputs": [
        {
          "output_type": "execute_result",
          "data": {
            "text/plain": [
              "20"
            ]
          },
          "metadata": {},
          "execution_count": 28
        }
      ],
      "source": [
        "data=' hello Welcome 60 DaYs of PYthon'\n",
        "data.count('of')\n",
        "data.find('s')"
      ]
    },
    {
      "cell_type": "code",
      "source": [
        "data.find('p', 6,13)\n",
        "data.index('s')\n",
        "data.lower()\n",
        "data.upper()\n",
        "data.capitalize()\n",
        "data.swapcase()\n",
        "data.title()\n",
        "data.encode()\n",
        "data.split()\n",
        "data.center(100)\n",
        "data.replace('hello','hi')\n"
      ],
      "metadata": {
        "colab": {
          "base_uri": "https://localhost:8080/",
          "height": 35
        },
        "id": "08NA3g_9aeH9",
        "outputId": "20c89731-0537-4902-9832-35ad505524c7"
      },
      "execution_count": 40,
      "outputs": [
        {
          "output_type": "execute_result",
          "data": {
            "text/plain": [
              "'hi Welcome 60 DaYs of PYthon'"
            ],
            "application/vnd.google.colaboratory.intrinsic+json": {
              "type": "string"
            }
          },
          "metadata": {},
          "execution_count": 40
        }
      ]
    },
    {
      "cell_type": "code",
      "source": [
        "x=200\n",
        "y=300\n",
        "\n",
        "m=y-x\n",
        "print('I have',m ,' taka')"
      ],
      "metadata": {
        "colab": {
          "base_uri": "https://localhost:8080/"
        },
        "id": "K7k32NPDghPb",
        "outputId": "5d92635f-b69c-410b-bc2b-7b98a2f7ae02"
      },
      "execution_count": 47,
      "outputs": [
        {
          "output_type": "stream",
          "name": "stdout",
          "text": [
            "I have 100  taka\n"
          ]
        }
      ]
    }
  ]
}