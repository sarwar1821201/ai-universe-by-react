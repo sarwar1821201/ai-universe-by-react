{
  "nbformat": 4,
  "nbformat_minor": 0,
  "metadata": {
    "colab": {
      "provenance": [],
      "authorship_tag": "ABX9TyMRMIVTdrohsuemg6UifUhb",
      "include_colab_link": true
    },
    "kernelspec": {
      "name": "python3",
      "display_name": "Python 3"
    },
    "language_info": {
      "name": "python"
    }
  },
  "cells": [
    {
      "cell_type": "markdown",
      "metadata": {
        "id": "view-in-github",
        "colab_type": "text"
      },
      "source": [
        "<a href=\"https://colab.research.google.com/github/sarwar1821201/ai-universe-by-react/blob/main/day_01.ipynb\" target=\"_parent\"><img src=\"https://colab.research.google.com/assets/colab-badge.svg\" alt=\"Open In Colab\"/></a>"
      ]
    },
    {
      "cell_type": "code",
      "execution_count": 22,
      "metadata": {
        "colab": {
          "base_uri": "https://localhost:8080/"
        },
        "collapsed": true,
        "id": "_F03gWa5vdZW",
        "outputId": "94a98bdf-eb22-414d-bcd1-3305e9239bde"
      },
      "outputs": [
        {
          "output_type": "stream",
          "name": "stdout",
          "text": [
            "hellooooooo\n"
          ]
        }
      ],
      "source": [
        "m=40\n",
        "print('hellooooooo')"
      ]
    },
    {
      "cell_type": "code",
      "source": [
        "x=7;\n",
        "y=81;\n",
        "print(x+y);\n",
        "\n"
      ],
      "metadata": {
        "colab": {
          "base_uri": "https://localhost:8080/"
        },
        "collapsed": true,
        "id": "pblRgJw7voHH",
        "outputId": "aa444517-fe6f-4a43-9fd0-4b907f32502e"
      },
      "execution_count": 14,
      "outputs": [
        {
          "output_type": "stream",
          "name": "stdout",
          "text": [
            "88\n"
          ]
        }
      ]
    },
    {
      "cell_type": "code",
      "source": [
        "import sys\n",
        "sys.getsizeof(x)"
      ],
      "metadata": {
        "colab": {
          "base_uri": "https://localhost:8080/"
        },
        "id": "cqeOLwdLBvZ9",
        "outputId": "df61a275-7b4a-4240-bd74-d4480b685a78"
      },
      "execution_count": 15,
      "outputs": [
        {
          "output_type": "execute_result",
          "data": {
            "text/plain": [
              "28"
            ]
          },
          "metadata": {},
          "execution_count": 15
        }
      ]
    },
    {
      "cell_type": "code",
      "source": [
        "print(3+2 ,'data science', sep='&' ,end='|' )"
      ],
      "metadata": {
        "colab": {
          "base_uri": "https://localhost:8080/"
        },
        "collapsed": true,
        "id": "aT8c35SyWQZA",
        "outputId": "a1b42177-7dba-448b-87c4-e0598f349cc1"
      },
      "execution_count": 7,
      "outputs": [
        {
          "output_type": "stream",
          "name": "stdout",
          "text": [
            "5&data science|"
          ]
        }
      ]
    },
    {
      "cell_type": "code",
      "source": [
        "#multiple varialbe\n",
        "a,b,c=10,20,30\n",
        "print(id(c))\n",
        "print(a+b+c+m)"
      ],
      "metadata": {
        "colab": {
          "base_uri": "https://localhost:8080/"
        },
        "id": "WDO3U0FECJVO",
        "outputId": "d2780b23-364d-49a9-b4db-68dc5ce1f366"
      },
      "execution_count": 23,
      "outputs": [
        {
          "output_type": "stream",
          "name": "stdout",
          "text": [
            "135958492611728\n",
            "100\n"
          ]
        }
      ]
    }
  ]
}